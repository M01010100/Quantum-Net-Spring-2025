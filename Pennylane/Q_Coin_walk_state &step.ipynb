{
 "cells": [
  {
   "cell_type": "code",
   "execution_count": null,
   "metadata": {},
   "outputs": [
    {
     "name": "stdout",
     "output_type": "stream",
     "text": [
      "[0.         0.         0.         ... 0.         0.         0.00631336]\n",
      "Figure(330300x1700)\n"
     ]
    }
   ],
   "source": [
    "import time\n",
    "import pennylane as qml\n",
    "from pennylane import qjit\n",
    "from pennylane import numpy as np\n",
    "import matplotlib.pyplot as plt  # Import matplotlib for saving the image\n",
    "\n",
    "SIZE = 15 # position space\n",
    "start_time = time.time()\n",
    "s = SIZE\n",
    "wires_x = list(range(s)) #[0,1,2,3,4,5]\n",
    "coin = [s] # coin space\n",
    "\n",
    "def shift_op():\n",
    "     for index in range(len(wires_x)-1, 0, -1):\n",
    "     #    control_values = [1] * index\n",
    "        qml.ctrl(qml.PauliX, control=wires_x[:index], control_values=[1] * index)(wires=wires_x[index])\n",
    "     qml.PauliX(wires_x[0])\n",
    "\n",
    "\n",
    "#@qml.qnode(qml.device(\"qiskit.basicsim\", wires=(wires_x + coin)))\n",
    "@qml.qnode(qml.device(\"lightning.qubit\", wires=(wires_x + coin)))\n",
    "\n",
    "def circuit(steps, state):\n",
    "     qml.BasisState(state, wires=wires_x)\n",
    "     for i in range(steps): \n",
    "        qml.H(coin)\n",
    "        qml.ctrl(shift_op, control=coin)()\n",
    "        qml.ctrl(qml.adjoint(shift_op), control=coin, control_values=[0])()\n",
    "     return qml.probs(wires=wires_x)\n",
    "\n",
    "steps = 100\n",
    "state = [0] * SIZE\n",
    "state[0] = 1\n",
    "state[1] = 1\n",
    "state[2] = 0\n",
    "print(circuit(steps, state))\n",
    "#print(qml.draw(circuit)(steps=1, state=state))\n",
    "fig, ax = qml.draw_mpl(circuit, style=\"pennylane\")(steps, state)\n",
    "fig.savefig(\"q_walk_circuit.png\", dpi=300)\n",
    "plt.close(fig)\n",
    "print(fig)"
   ]
  }
 ],
 "metadata": {
  "kernelspec": {
   "display_name": "Quantum",
   "language": "python",
   "name": "python3"
  },
  "language_info": {
   "codemirror_mode": {
    "name": "ipython",
    "version": 3
   },
   "file_extension": ".py",
   "mimetype": "text/x-python",
   "name": "python",
   "nbconvert_exporter": "python",
   "pygments_lexer": "ipython3",
   "version": "3.12.9"
  }
 },
 "nbformat": 4,
 "nbformat_minor": 2
}
