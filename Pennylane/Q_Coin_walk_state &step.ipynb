{
 "cells": [
  {
   "cell_type": "code",
   "execution_count": 10,
   "metadata": {},
   "outputs": [
    {
     "ename": "MemoryError",
     "evalue": "std::bad_alloc",
     "output_type": "error",
     "traceback": [
      "\u001b[31m---------------------------------------------------------------------------\u001b[39m",
      "\u001b[31mMemoryError\u001b[39m                               Traceback (most recent call last)",
      "\u001b[36mCell\u001b[39m\u001b[36m \u001b[39m\u001b[32mIn[10]\u001b[39m\u001b[32m, line 18\u001b[39m\n\u001b[32m     14\u001b[39m      qml.PauliX(wires_x[\u001b[32m0\u001b[39m])\n\u001b[32m     17\u001b[39m \u001b[38;5;66;03m#@qml.qnode(qml.device(\"qiskit.basicsim\", wires=(wires_x + coin)))\u001b[39;00m\n\u001b[32m---> \u001b[39m\u001b[32m18\u001b[39m \u001b[38;5;129m@qml\u001b[39m.qnode(\u001b[43mqml\u001b[49m\u001b[43m.\u001b[49m\u001b[43mdevice\u001b[49m\u001b[43m(\u001b[49m\u001b[33;43m\"\u001b[39;49m\u001b[33;43mlightning.qubit\u001b[39;49m\u001b[33;43m\"\u001b[39;49m\u001b[43m,\u001b[49m\u001b[43m \u001b[49m\u001b[43mwires\u001b[49m\u001b[43m=\u001b[49m\u001b[43m(\u001b[49m\u001b[43mwires_x\u001b[49m\u001b[43m \u001b[49m\u001b[43m+\u001b[49m\u001b[43m \u001b[49m\u001b[43mcoin\u001b[49m\u001b[43m)\u001b[49m\u001b[43m)\u001b[49m)\n\u001b[32m     19\u001b[39m \n\u001b[32m     20\u001b[39m \u001b[38;5;28;01mdef\u001b[39;00m\u001b[38;5;250m \u001b[39m\u001b[34mcircuit\u001b[39m(steps, state):\n\u001b[32m     21\u001b[39m      state_val = \u001b[38;5;28mlist\u001b[39m(\u001b[38;5;28mmap\u001b[39m(\u001b[38;5;28mint\u001b[39m, \u001b[33mf\u001b[39m\u001b[33m\"\u001b[39m\u001b[38;5;132;01m{\u001b[39;00mstate\u001b[38;5;132;01m:\u001b[39;00m\u001b[33m0\u001b[39m\u001b[38;5;132;01m{\u001b[39;00ms\u001b[38;5;132;01m}\u001b[39;00m\u001b[33mb\u001b[39m\u001b[38;5;132;01m}\u001b[39;00m\u001b[33m\"\u001b[39m))\n\u001b[32m     22\u001b[39m      qml.BasisState(state_val, wires=wires_x)\n",
      "\u001b[36mFile \u001b[39m\u001b[32m~/miniconda3/envs/Quantum/lib/python3.12/site-packages/pennylane/devices/device_constructor.py:263\u001b[39m, in \u001b[36mdevice\u001b[39m\u001b[34m(name, *args, **kwargs)\u001b[39m\n\u001b[32m    257\u001b[39m         \u001b[38;5;28;01mraise\u001b[39;00m qml.DeviceError(\n\u001b[32m    258\u001b[39m             \u001b[33mf\u001b[39m\u001b[33m\"\u001b[39m\u001b[33mThe \u001b[39m\u001b[38;5;132;01m{\u001b[39;00mname\u001b[38;5;132;01m}\u001b[39;00m\u001b[33m plugin requires PennyLane versions \u001b[39m\u001b[38;5;132;01m{\u001b[39;00mrequired_versions\u001b[38;5;132;01m}\u001b[39;00m\u001b[33m, \u001b[39m\u001b[33m\"\u001b[39m\n\u001b[32m    259\u001b[39m             \u001b[33mf\u001b[39m\u001b[33m\"\u001b[39m\u001b[33mhowever PennyLane version \u001b[39m\u001b[38;5;132;01m{\u001b[39;00mqml.version()\u001b[38;5;132;01m}\u001b[39;00m\u001b[33m is installed.\u001b[39m\u001b[33m\"\u001b[39m\n\u001b[32m    260\u001b[39m         )\n\u001b[32m    262\u001b[39m \u001b[38;5;66;03m# Construct the device\u001b[39;00m\n\u001b[32m--> \u001b[39m\u001b[32m263\u001b[39m dev = \u001b[43mplugin_device_class\u001b[49m\u001b[43m(\u001b[49m\u001b[43m*\u001b[49m\u001b[43margs\u001b[49m\u001b[43m,\u001b[49m\u001b[43m \u001b[49m\u001b[43m*\u001b[49m\u001b[43m*\u001b[49m\u001b[43moptions\u001b[49m\u001b[43m)\u001b[49m\n\u001b[32m    265\u001b[39m \u001b[38;5;66;03m# Once the device is constructed, we set its custom expansion function if\u001b[39;00m\n\u001b[32m    266\u001b[39m \u001b[38;5;66;03m# any custom decompositions were specified.\u001b[39;00m\n\u001b[32m    267\u001b[39m \u001b[38;5;28;01mif\u001b[39;00m custom_decomps \u001b[38;5;129;01mis\u001b[39;00m \u001b[38;5;129;01mnot\u001b[39;00m \u001b[38;5;28;01mNone\u001b[39;00m:\n",
      "\u001b[36mFile \u001b[39m\u001b[32m~/miniconda3/envs/Quantum/lib/python3.12/site-packages/pennylane_lightning/lightning_qubit/lightning_qubit.py:291\u001b[39m, in \u001b[36mLightningQubit.__init__\u001b[39m\u001b[34m(self, wires, c_dtype, shots, batch_obs, seed, mcmc, kernel_name, num_burnin)\u001b[39m\n\u001b[32m    284\u001b[39m \u001b[38;5;28mself\u001b[39m.device_kwargs = {\n\u001b[32m    285\u001b[39m     \u001b[33m\"\u001b[39m\u001b[33mmcmc\u001b[39m\u001b[33m\"\u001b[39m: \u001b[38;5;28mself\u001b[39m._mcmc,\n\u001b[32m    286\u001b[39m     \u001b[33m\"\u001b[39m\u001b[33mnum_burnin\u001b[39m\u001b[33m\"\u001b[39m: \u001b[38;5;28mself\u001b[39m._num_burnin,\n\u001b[32m    287\u001b[39m     \u001b[33m\"\u001b[39m\u001b[33mkernel_name\u001b[39m\u001b[33m\"\u001b[39m: \u001b[38;5;28mself\u001b[39m._kernel_name,\n\u001b[32m    288\u001b[39m }\n\u001b[32m    290\u001b[39m \u001b[38;5;66;03m# Creating the state vector\u001b[39;00m\n\u001b[32m--> \u001b[39m\u001b[32m291\u001b[39m \u001b[38;5;28mself\u001b[39m._statevector = \u001b[38;5;28;43mself\u001b[39;49m\u001b[43m.\u001b[49m\u001b[43mLightningStateVector\u001b[49m\u001b[43m(\u001b[49m\u001b[43mnum_wires\u001b[49m\u001b[43m=\u001b[49m\u001b[38;5;28;43mlen\u001b[39;49m\u001b[43m(\u001b[49m\u001b[38;5;28;43mself\u001b[39;49m\u001b[43m.\u001b[49m\u001b[43mwires\u001b[49m\u001b[43m)\u001b[49m\u001b[43m,\u001b[49m\u001b[43m \u001b[49m\u001b[43mdtype\u001b[49m\u001b[43m=\u001b[49m\u001b[43mc_dtype\u001b[49m\u001b[43m)\u001b[49m\n",
      "\u001b[36mFile \u001b[39m\u001b[32m~/miniconda3/envs/Quantum/lib/python3.12/site-packages/pennylane_lightning/lightning_qubit/_state_vector.py:63\u001b[39m, in \u001b[36mLightningStateVector.__init__\u001b[39m\u001b[34m(self, num_wires, dtype)\u001b[39m\n\u001b[32m     60\u001b[39m \u001b[38;5;28mself\u001b[39m._device_name = \u001b[33m\"\u001b[39m\u001b[33mlightning.qubit\u001b[39m\u001b[33m\"\u001b[39m\n\u001b[32m     62\u001b[39m \u001b[38;5;66;03m# Initialize the state vector\u001b[39;00m\n\u001b[32m---> \u001b[39m\u001b[32m63\u001b[39m \u001b[38;5;28mself\u001b[39m._qubit_state = \u001b[38;5;28;43mself\u001b[39;49m\u001b[43m.\u001b[49m\u001b[43m_state_dtype\u001b[49m\u001b[43m(\u001b[49m\u001b[43m)\u001b[49m\u001b[43m(\u001b[49m\u001b[38;5;28;43mself\u001b[39;49m\u001b[43m.\u001b[49m\u001b[43m_num_wires\u001b[49m\u001b[43m)\u001b[49m\n",
      "\u001b[31mMemoryError\u001b[39m: std::bad_alloc"
     ]
    }
   ],
   "source": [
    "import time\n",
    "import pennylane as qml\n",
    "\n",
    "SIZE = 50 # position space\n",
    "start_time = time.time()\n",
    "s = SIZE\n",
    "wires_x = list(range(s)) #[0,1,2,3,4,5]\n",
    "coin = [s] # coin space\n",
    "\n",
    "def shift_op():\n",
    "     for index in range(len(wires_x)-1, 0, -1):\n",
    "         control_values = [1] * index\n",
    "         qml.ctrl(qml.PauliX, control=wires_x[:index], control_values=control_values)(wires=wires_x[index])\n",
    "     qml.PauliX(wires_x[0])\n",
    "\n",
    "\n",
    "#@qml.qnode(qml.device(\"qiskit.basicsim\", wires=(wires_x + coin)))\n",
    "@qml.qnode(qml.device(\"lightning.qubit\", wires=(wires_x + coin)))\n",
    "\n",
    "def circuit(steps, state):\n",
    "     state_val = list(map(int, f\"{state:0{s}b}\"))\n",
    "     qml.BasisState(state_val, wires=wires_x)\n",
    "     for i in range(steps): \n",
    "        qml.H(coin)\n",
    "        qml.ctrl(shift_op, control=coin)()\n",
    "        qml.ctrl(qml.adjoint(shift_op), control=coin, control_values=[0])()\n",
    "     return qml.probs(wires=wires_x)\n",
    "\n",
    "steps = 20\n",
    "state = (steps - 1) ** 2\n",
    "print(circuit(steps, state))\n",
    "_ = qml.draw_mpl(circuit, style=\"pennylane\")(steps, state)\n"
   ]
  }
 ],
 "metadata": {
  "kernelspec": {
   "display_name": "Quantum",
   "language": "python",
   "name": "python3"
  },
  "language_info": {
   "codemirror_mode": {
    "name": "ipython",
    "version": 3
   },
   "file_extension": ".py",
   "mimetype": "text/x-python",
   "name": "python",
   "nbconvert_exporter": "python",
   "pygments_lexer": "ipython3",
   "version": "3.12.9"
  }
 },
 "nbformat": 4,
 "nbformat_minor": 2
}
