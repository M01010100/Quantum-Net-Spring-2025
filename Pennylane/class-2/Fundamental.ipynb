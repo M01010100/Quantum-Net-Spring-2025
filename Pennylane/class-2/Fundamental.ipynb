{
 "cells": [
  {
   "cell_type": "code",
   "execution_count": 1,
   "metadata": {},
   "outputs": [],
   "source": [
    "import pennylane as qml"
   ]
  },
  {
   "cell_type": "code",
   "execution_count": 2,
   "metadata": {},
   "outputs": [],
   "source": [
    "\n",
    "\n",
    "def circuit(phi): # Write any arguments you need here\n",
    "    \"\"\"\n",
    "    This quantum function implements the circuit shown above\n",
    "    and returns the output quantum state\n",
    "    \"\"\"\n",
    " \n",
    "    qml.Hadamard(wires = 0)\n",
    "    qml.PauliX(wires = 1)\n",
    "    qml.CNOT(wires = [0,1])\n",
    "    qml.RY(phi, wires = 1)\n",
    "\n",
    "    return qml.state()\n",
    "\n"
   ]
  },
  {
   "cell_type": "code",
   "execution_count": 3,
   "metadata": {},
   "outputs": [
    {
     "name": "stdout",
     "output_type": "stream",
     "text": [
      "[[0.97766824+0.j        0.        +0.j        0.        +0.j\n",
      "  0.        +0.1477601j]\n",
      " [0.        +0.j        0.        +0.j        0.        +0.j\n",
      "  0.        +0.j       ]\n",
      " [0.        +0.j        0.        +0.j        0.        +0.j\n",
      "  0.        +0.j       ]\n",
      " [0.        -0.1477601j 0.        +0.j        0.        +0.j\n",
      "  0.02233176+0.j       ]]\n"
     ]
    }
   ],
   "source": [
    "dev_qubit = qml.device(\"default.qubit\", wires = [\"alice\", \"bob\"])\n",
    "dev_mixed = qml.device(\"default.mixed\", wires=2)\n",
    "\n",
    "@qml.qnode(dev_mixed) # Choose the device you want\n",
    "def example_circuit(theta):\n",
    "    \n",
    "    qml.RX(theta, wires = 0) # Complete with wires in the device\n",
    "    qml.CNOT(wires =  [0, 1]) # Complete with wires in the device\n",
    "    \n",
    "    return qml.state()\n",
    "\n",
    "print(example_circuit(0.3))"
   ]
  },
  {
   "cell_type": "code",
   "execution_count": null,
   "metadata": {},
   "outputs": [],
   "source": [
    "dev = qml.device(\"default.qubit\", wires =2)\n",
    "\n",
    "circuit_qnode = qml.QNode(circuit, dev)\n",
    "\n",
    "print(circuit_qnode(0.3))\n"
   ]
  },
  {
   "cell_type": "code",
   "execution_count": null,
   "metadata": {},
   "outputs": [],
   "source": [
    "def subcircuit_1(angle):\n",
    "\n",
    "    qml.RX(angle, wires = 0)\n",
    "    qml.PauliY(wires = 1)\n",
    "\n",
    "    # No need to return anything\n",
    "\n",
    "def subcircuit_2():\n",
    "\n",
    "    qml.Hadamard(wires = 0)\n",
    "    qml.CNOT(wires=[0,1])\n",
    "\n",
    "    # No need to return anything\n",
    "\n",
    "dev = qml.device('default.qubit', wires = 2)\n",
    "\n",
    "@qml.qnode(dev)\n",
    "\n",
    "def full_circuit(theta, phi):\n",
    "    subcircuit_1(theta) \n",
    "    subcircuit_2()\n",
    "    subcircuit_1(phi)\n",
    "    \n",
    "    # Return the quantum state\n",
    "    return qml.state()"
   ]
  },
  {
   "cell_type": "code",
   "execution_count": null,
   "metadata": {},
   "outputs": [],
   "source": [
    "def subcircuit_1(angle, wire_list):\n",
    "    \"\"\"\n",
    "    Implements the first subcircuit as a function of the RX gate angle\n",
    "    and the list of wires wire_list on which the gates are applied\n",
    "    \"\"\"\n",
    "    qml.RX(angle, wire_list[0])\n",
    "    qml.PauliY(wire_list[1])\n",
    "\n",
    "def subcircuit_2(wire_list):\n",
    "    \"\"\"\n",
    "    Implements the second subcircuit as a function of the list of wires \n",
    "    wire_list on which the gates are applied\n",
    "    \"\"\"\n",
    "    qml.Hadamard(wire_list[0])\n",
    "    qml.CNOT(wire_list)\n",
    "\n",
    "dev = qml.device(\"default.qubit\", wires = [0,1])\n",
    "\n",
    "@qml.qnode(dev)\n",
    "def full_circuit(theta, phi):\n",
    "    \"\"\"\n",
    "    Builds the full quantum circuit given the input parameters\n",
    "    \"\"\"\n",
    "\n",
    "    subcircuit_1(theta, [0,1])\n",
    "    subcircuit_2([0,1])\n",
    "    subcircuit_1(phi, [1,0])\n",
    "\n",
    "    return qml.state()"
   ]
  }
 ],
 "metadata": {
  "kernelspec": {
   "display_name": "quantum",
   "language": "python",
   "name": "python3"
  },
  "language_info": {
   "codemirror_mode": {
    "name": "ipython",
    "version": 3
   },
   "file_extension": ".py",
   "mimetype": "text/x-python",
   "name": "python",
   "nbconvert_exporter": "python",
   "pygments_lexer": "ipython3",
   "version": "3.11.11"
  }
 },
 "nbformat": 4,
 "nbformat_minor": 2
}
