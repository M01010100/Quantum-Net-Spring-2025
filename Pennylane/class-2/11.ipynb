{
 "cells": [
  {
   "cell_type": "code",
   "execution_count": 1,
   "metadata": {},
   "outputs": [
    {
     "name": "stdout",
     "output_type": "stream",
     "text": [
      "[0.70710678+0.j 0.        +0.j 0.70710678+0.j 0.        +0.j]\n"
     ]
    }
   ],
   "source": [
    "#excercise 1; Circuit 1\n",
    "import pennylane as qml\n",
    "from pennylane import numpy as np\n",
    "\n",
    "dev = qml.device(\"default.qubit\", wires=2)\n",
    "@qml.qnode(dev)\n",
    "def c1Circuit(state):\n",
    "    if (state ==1):\n",
    "        qml.Pauli_X(wires=0)\n",
    "    qml.CNOT(wires=[0, 1])\n",
    "    qml.Hadamard(wires=0)\n",
    "    \n",
    "    return qml.state()        \n",
    "print(c1Circuit([1]))\n"
   ]
  },
  {
   "cell_type": "markdown",
   "metadata": {},
   "source": [
    "[[0.707,   0.707],\n",
    "[0,  0]]"
   ]
  },
  {
   "cell_type": "code",
   "execution_count": null,
   "metadata": {},
   "outputs": [
    {
     "name": "stdout",
     "output_type": "stream",
     "text": [
      "[0.        +0.j 0.70710678+0.j 0.        +0.j 0.        +0.j\n",
      " 0.        +0.j 0.70710678+0.j 0.        +0.j 0.        +0.j]\n"
     ]
    }
   ],
   "source": [
    "# exercise 2; Circuit 2\n",
    "dev = qml.device(\"default.qubit\", wires=3)\n",
    "@qml.qnode(dev)\n",
    "\n",
    "def c2Circuit():\n",
    "    qml.CNOT(wires=[0, 1])\n",
    "    qml.PauliZ(wires=2)\n",
    "    qml.Hadamard(wires=0)\n",
    "    qml.PauliX(wires=2)\n",
    "    qml.CNOT(wires=[1,2])\n",
    "    \n",
    "    return qml.state()\n",
    "print(c2Circuit())"
   ]
  },
  {
   "cell_type": "code",
   "execution_count": null,
   "metadata": {},
   "outputs": [
    {
     "name": "stdout",
     "output_type": "stream",
     "text": [
      "[[3 3]\n",
      " [7 7]]\n"
     ]
    }
   ],
   "source": [
    "# Exercise 3\n",
    "U = np.array([[1,2],[3,4]])\n",
    "T = np.array([[1,1],[1,1]])\n",
    "Ret = np.matmul(U,T)\n",
    "print(Ret)\n"
   ]
  }
 ],
 "metadata": {
  "kernelspec": {
   "display_name": "quantum",
   "language": "python",
   "name": "python3"
  },
  "language_info": {
   "codemirror_mode": {
    "name": "ipython",
    "version": 3
   },
   "file_extension": ".py",
   "mimetype": "text/x-python",
   "name": "python",
   "nbconvert_exporter": "python",
   "pygments_lexer": "ipython3",
   "version": "3.11.11"
  }
 },
 "nbformat": 4,
 "nbformat_minor": 2
}
